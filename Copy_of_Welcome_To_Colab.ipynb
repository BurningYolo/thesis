{
  "cells": [
    {
      "cell_type": "markdown",
      "metadata": {
        "id": "view-in-github",
        "colab_type": "text"
      },
      "source": [
        "<a href=\"https://colab.research.google.com/github/BurningYolo/thesis/blob/main/Copy_of_Welcome_To_Colab.ipynb\" target=\"_parent\"><img src=\"https://colab.research.google.com/assets/colab-badge.svg\" alt=\"Open In Colab\"/></a>"
      ]
    },
    {
      "cell_type": "markdown",
      "source": [],
      "metadata": {
        "id": "itpZmnFPuF1X"
      }
    },
    {
      "cell_type": "code",
      "source": [
        "# Step 1: Mount Google Drive\n",
        "from google.colab import drive\n",
        "drive.mount('/content/drive')\n",
        "\n",
        "# Step 2: Import pandas\n",
        "import pandas as pd\n",
        "\n",
        "# Step 3: Load the CSV file from the THESIS folder\n",
        "file_path = '/content/drive/My Drive/THESIS/transformed.csv'  # Ensure \"My Drive\" is included\n",
        "data = pd.read_csv(file_path)\n",
        "\n",
        "# Step 4: Print the column headings\n",
        "print(\"Column Headings:\", data.columns.tolist())\n"
      ],
      "metadata": {
        "id": "RhesgCAzuJse",
        "outputId": "8a202f17-16f1-4e54-8bc6-0fb2d9541dcc",
        "colab": {
          "base_uri": "https://localhost:8080/"
        }
      },
      "execution_count": null,
      "outputs": [
        {
          "output_type": "stream",
          "name": "stdout",
          "text": [
            "Drive already mounted at /content/drive; to attempt to forcibly remount, call drive.mount(\"/content/drive\", force_remount=True).\n",
            "Column Headings: ['series_id', 'series_type', 'match_id', 'match_start_date_time', 'match_duration_seconds', 'first_blood_time_seconds', 'radiant_team_id', 'radiant_team_name', 'dire_team_id', 'dire_team_name', 'winner_id', 'radiant_kills', 'dire_kills', 'radiant_player_1_id', 'radiant_player_1_name', 'radiant_player_1_hero_id', 'radiant_player_1_hero', 'radiant_player_1_position', 'radiant_player_1_lane', 'radiant_player_1_role', 'radiant_player_1_kills', 'radiant_player_1_deaths', 'radiant_player_1_assists', 'radiant_player_1_networth', 'radiant_player_2_id', 'radiant_player_2_name', 'radiant_player_2_hero_id', 'radiant_player_2_hero', 'radiant_player_2_position', 'radiant_player_2_lane', 'radiant_player_2_role', 'radiant_player_2_kills', 'radiant_player_2_deaths', 'radiant_player_2_assists', 'radiant_player_2_networth', 'radiant_player_3_id', 'radiant_player_3_name', 'radiant_player_3_hero_id', 'radiant_player_3_hero', 'radiant_player_3_position', 'radiant_player_3_lane', 'radiant_player_3_role', 'radiant_player_3_kills', 'radiant_player_3_deaths', 'radiant_player_3_assists', 'radiant_player_3_networth', 'radiant_player_4_id', 'radiant_player_4_name', 'radiant_player_4_hero_id', 'radiant_player_4_hero', 'radiant_player_4_position', 'radiant_player_4_lane', 'radiant_player_4_role', 'radiant_player_4_kills', 'radiant_player_4_deaths', 'radiant_player_4_assists', 'radiant_player_4_networth', 'radiant_player_5_id', 'radiant_player_5_name', 'radiant_player_5_hero_id', 'radiant_player_5_hero', 'radiant_player_5_position', 'radiant_player_5_lane', 'radiant_player_5_role', 'radiant_player_5_kills', 'radiant_player_5_deaths', 'radiant_player_5_assists', 'radiant_player_5_networth', 'dire_player_1_id', 'dire_player_1_name', 'dire_player_1_hero_id', 'dire_player_1_hero', 'dire_player_1_position', 'dire_player_1_lane', 'dire_player_1_role', 'dire_player_1_kills', 'dire_player_1_deaths', 'dire_player_1_assists', 'dire_player_1_networth', 'dire_player_2_id', 'dire_player_2_name', 'dire_player_2_hero_id', 'dire_player_2_hero', 'dire_player_2_position', 'dire_player_2_lane', 'dire_player_2_role', 'dire_player_2_kills', 'dire_player_2_deaths', 'dire_player_2_assists', 'dire_player_2_networth', 'dire_player_3_id', 'dire_player_3_name', 'dire_player_3_hero_id', 'dire_player_3_hero', 'dire_player_3_position', 'dire_player_3_lane', 'dire_player_3_role', 'dire_player_3_kills', 'dire_player_3_deaths', 'dire_player_3_assists', 'dire_player_3_networth', 'dire_player_4_id', 'dire_player_4_name', 'dire_player_4_hero_id', 'dire_player_4_hero', 'dire_player_4_position', 'dire_player_4_lane', 'dire_player_4_role', 'dire_player_4_kills', 'dire_player_4_deaths', 'dire_player_4_assists', 'dire_player_4_networth', 'dire_player_5_id', 'dire_player_5_name', 'dire_player_5_hero_id', 'dire_player_5_hero', 'dire_player_5_position', 'dire_player_5_lane', 'dire_player_5_role', 'dire_player_5_kills', 'dire_player_5_deaths', 'dire_player_5_assists', 'dire_player_5_networth', 'game_version_id', 'winner']\n"
          ]
        }
      ]
    }
  ],
  "metadata": {
    "colab": {
      "toc_visible": true,
      "provenance": [],
      "include_colab_link": true
    },
    "kernelspec": {
      "display_name": "Python 3",
      "name": "python3"
    }
  },
  "nbformat": 4,
  "nbformat_minor": 0
}